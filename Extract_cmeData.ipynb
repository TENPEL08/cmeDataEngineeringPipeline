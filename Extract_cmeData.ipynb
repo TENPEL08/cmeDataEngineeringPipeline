{
 "cells": [
  {
   "cell_type": "markdown",
   "metadata": {},
   "source": [
    "# Data Extraction\n",
    "## Converting a .json file from 'The Chicago Mercantile Exchange (CME)' and a .csv and loading it to azure blob"
   ]
  },
  {
   "cell_type": "markdown",
   "metadata": {},
   "source": [
    "#### Given the requirment of a high computational power and the json file being considerable large in size. \n",
    "#### I first uploaded the raw .json file to Azure Blob.\n",
    "#### I then used the college library laptop with a higher computational power to read the large .json files\n",
    "#### I made an additional to the script to avoid creating an object but to assign it directly to the pandas dataframe. \n",
    "#### Last but not the least, I downloaded it as a .csv for further analysis and uploaded the .csv file to Azure Blob\n"
   ]
  },
  {
   "cell_type": "code",
   "execution_count": 1,
   "metadata": {
    "colab": {
     "base_uri": "https://localhost:8080/"
    },
    "id": "gCFLuaWeTUhQ",
    "outputId": "80718f90-345d-43bb-8d16-42774e17ed24"
   },
   "outputs": [
    {
     "name": "stdout",
     "output_type": "stream",
     "text": [
      "Requirement already satisfied: pandas in /Users/t.pelchok/anaconda3/lib/python3.11/site-packages (2.0.3)\n",
      "Requirement already satisfied: python-dateutil>=2.8.2 in /Users/t.pelchok/anaconda3/lib/python3.11/site-packages (from pandas) (2.8.2)\n",
      "Requirement already satisfied: pytz>=2020.1 in /Users/t.pelchok/anaconda3/lib/python3.11/site-packages (from pandas) (2023.3.post1)\n",
      "Requirement already satisfied: tzdata>=2022.1 in /Users/t.pelchok/anaconda3/lib/python3.11/site-packages (from pandas) (2023.3)\n",
      "Requirement already satisfied: numpy>=1.21.0 in /Users/t.pelchok/anaconda3/lib/python3.11/site-packages (from pandas) (1.24.3)\n",
      "Requirement already satisfied: six>=1.5 in /Users/t.pelchok/anaconda3/lib/python3.11/site-packages (from python-dateutil>=2.8.2->pandas) (1.16.0)\n",
      "Note: you may need to restart the kernel to use updated packages.\n"
     ]
    }
   ],
   "source": [
    "# installing necessary libraries\n",
    "!pip install pandas\n",
    "!pip install azure-storage-blob"
   ]
  },
  {
   "cell_type": "code",
   "execution_count": 3,
   "metadata": {
    "id": "ah4lMyLUTjBV"
   },
   "outputs": [],
   "source": [
    "from datetime import datetime, timedelta\n",
    "from azure.storage.blob import BlobServiceClient, generate_blob_sas, BlobSasPermissions\n",
    "import pandas as pd\n",
    "from azure.storage.blob import BlobServiceClient\n",
    "import pandas as pd\n",
    "from io import BytesIO"
   ]
  },
  {
   "cell_type": "code",
   "execution_count": 4,
   "metadata": {
    "id": "i6LTwCn-Jy73"
   },
   "outputs": [],
   "source": [
    "import json\n",
    "from azure.storage.blob import BlobServiceClient\n",
    "import pandas as pd\n",
    "\n",
    "# Replace these with your credentials\n",
    "account_name = \"your account name\"\n",
    "account_key = \"your account key\"\n",
    "container_name = \"your container name \"\n",
    "json_blob_name = \"your blob name\"\n",
    "\n",
    "# BlobServiceClient\n",
    "blob_service_client = BlobServiceClient(account_url=f\"https://{account_name}.blob.core.windows.net\", credential=account_key)\n",
    "\n",
    "# ContainerClient for the specified container\n",
    "container_client = blob_service_client.get_container_client(container_name)\n",
    "\n",
    "# BlobClient for the JSON blob\n",
    "json_blob_client = container_client.get_blob_client(json_blob_name)\n",
    "\n",
    "# Downloading the JSON blob content as bytes\n",
    "json_blob_data = json_blob_client.download_blob()\n",
    "json_content = json_blob_data.readall()\n",
    "\n",
    "# Decoding the bytes to string (assuming UTF-8 encoding)\n",
    "json_data = json_content.decode('utf-8')\n",
    "\n",
    "# Directly create a Pandas DataFrame from JSON data\n",
    "# \n",
    "df = pd.json_normalize(json.loads(json_data))"
   ]
  },
  {
   "cell_type": "code",
   "execution_count": 5,
   "metadata": {},
   "outputs": [
    {
     "name": "stdout",
     "output_type": "stream",
     "text": [
      "        securitytype             symbol securityexchange   nanotime  \\\n",
      "0                OPT  UD:WZ: 12 2877604             XCBT  196012091   \n",
      "1                OPT  UD:WZ: 12 2877604             XCBT  196012091   \n",
      "2                OPT  UD:WZ: 12 2877604             XCBT  196012091   \n",
      "3                FUT              SR3H7             XCME  354334027   \n",
      "4                FUT              SR3H7             XCME  356336945   \n",
      "...              ...                ...              ...        ...   \n",
      "5104808          FUT       TUF 05-04 U3             XCBT  328694773   \n",
      "5104809          FUT       TUF 05-04 U3             XCBT  328694773   \n",
      "5104810          FUT       TUF 05-04 U3             XCBT  328694773   \n",
      "5104811          FUT              SR3Z4             XCME  886782283   \n",
      "5104812          FUT              SR3Z4             XCME  894375885   \n",
      "\n",
      "        currentsecuritytradingstate             transacttime  \\\n",
      "0                                    2023-07-24 02:02:32.196   \n",
      "1                                    2023-07-24 02:02:32.196   \n",
      "2                                    2023-07-24 02:02:32.196   \n",
      "3                                    2023-07-24 02:03:39.354   \n",
      "4                                    2023-07-24 02:03:39.356   \n",
      "...                             ...                      ...   \n",
      "5104808                              2023-07-24 22:01:05.328   \n",
      "5104809                              2023-07-24 22:01:05.328   \n",
      "5104810                              2023-07-24 22:01:05.328   \n",
      "5104811                              2023-07-24 22:02:01.886   \n",
      "5104812                              2023-07-24 22:02:01.894   \n",
      "\n",
      "        maturitymonthyear securityid currencycode indc_opn_thcl_ind_px  ...  \\\n",
      "0                  202309    2877604          USD                 null  ...   \n",
      "1                  202309    2877604          USD                 null  ...   \n",
      "2                  202309    2877604          USD                 null  ...   \n",
      "3                  202703     254041          USD                 null  ...   \n",
      "4                  202703     254041          USD                 null  ...   \n",
      "...                   ...        ...          ...                  ...  ...   \n",
      "5104808            202309      27338          USD                 null  ...   \n",
      "5104809            202309      27338          USD                 null  ...   \n",
      "5104810            202309      27338          USD                 null  ...   \n",
      "5104811            202412     254254          USD                 null  ...   \n",
      "5104812            202412     254254          USD                 null  ...   \n",
      "\n",
      "                volume   tradedate asset messagestatus  \\\n",
      "0          1.000000000  2023-07-24   OZW                 \n",
      "1                  NaN  2023-07-24   OZW                 \n",
      "2                  NaN  2023-07-24   OZW                 \n",
      "3        350.000000000  2023-07-24   SR3                 \n",
      "4        351.000000000  2023-07-24   SR3                 \n",
      "...                ...         ...   ...           ...   \n",
      "5104808    1.000000000  2023-07-24   TUF                 \n",
      "5104809            NaN  2023-07-24   TUF                 \n",
      "5104810            NaN  2023-07-24   TUF                 \n",
      "5104811  121.000000000  2023-07-24   SR3                 \n",
      "5104812  122.000000000  2023-07-24   SR3                 \n",
      "\n",
      "        isuserdefinedinstrument highTradePrice lowTradePrice settleDate  \\\n",
      "0                             U            NaN           NaN        NaN   \n",
      "1                             U   -0.500000000           NaN        NaN   \n",
      "2                             U   -0.500000000  -0.500000000        NaN   \n",
      "3                             H            NaN           NaN        NaN   \n",
      "4                             H            NaN           NaN        NaN   \n",
      "...                         ...            ...           ...        ...   \n",
      "5104808                       H            NaN           NaN        NaN   \n",
      "5104809                       H   -0.007812500           NaN        NaN   \n",
      "5104810                       H   -0.007812500  -0.007812500        NaN   \n",
      "5104811                       H            NaN           NaN        NaN   \n",
      "5104812                       H            NaN           NaN        NaN   \n",
      "\n",
      "        settlementpricedec theoreticalprice  \n",
      "0                      NaN              NaN  \n",
      "1                      NaN              NaN  \n",
      "2                      NaN              NaN  \n",
      "3                      NaN              NaN  \n",
      "4                      NaN              NaN  \n",
      "...                    ...              ...  \n",
      "5104808                NaN              NaN  \n",
      "5104809                NaN              NaN  \n",
      "5104810                NaN              NaN  \n",
      "5104811                NaN              NaN  \n",
      "5104812                NaN              NaN  \n",
      "\n",
      "[5104813 rows x 32 columns]\n"
     ]
    }
   ],
   "source": [
    "print(df)"
   ]
  },
  {
   "cell_type": "code",
   "execution_count": 6,
   "metadata": {},
   "outputs": [],
   "source": [
    "# Converrting it to a CSV and making it more accessible \n",
    "df.to_csv(\"cmeData.csv\", index=False)"
   ]
  },
  {
   "cell_type": "code",
   "execution_count": null,
   "metadata": {},
   "outputs": [],
   "source": [
    "# Re-uploading the CSV file to azure Blob"
   ]
  },
  {
   "cell_type": "code",
   "execution_count": null,
   "metadata": {},
   "outputs": [],
   "source": [
    "from azure.storage.blob import BlobServiceClient, BlobClient, ContainerClient\n",
    "import os\n",
    "\n",
    "# Replace these with your credentials\n",
    "# Replace these with your credentials\n",
    "account_name = \"your account name\"\n",
    "account_key = \"your account key\"\n",
    "container_name = \"your container name \"\n",
    "json_blob_name = \"cmeData.csv\"\n",
    "local_file_path = \"path/to/your/cmeData.csv\"\n",
    "\n",
    "# Create a BlobServiceClient\n",
    "blob_service_client = BlobServiceClient(account_url=f\"https://{account_name}.blob.core.windows.net\", credential=account_key)\n",
    "\n",
    "# Get a ContainerClient for the specified container\n",
    "container_client = blob_service_client.get_container_client(container_name)\n",
    "\n",
    "# Upload the file to Azure Blob Storage\n",
    "with open(local_file_path, \"rb\") as data:\n",
    "    blob_client = container_client.get_blob_client(blob_name)\n",
    "    blob_client.upload_blob(data)\n",
    "\n",
    "print(f\"File '{blob_name}' uploaded to Azure Blob Storage.\")\n"
   ]
  }
 ],
 "metadata": {
  "colab": {
   "provenance": []
  },
  "kernelspec": {
   "display_name": "Python 3 (ipykernel)",
   "language": "python",
   "name": "python3"
  },
  "language_info": {
   "codemirror_mode": {
    "name": "ipython",
    "version": 3
   },
   "file_extension": ".py",
   "mimetype": "text/x-python",
   "name": "python",
   "nbconvert_exporter": "python",
   "pygments_lexer": "ipython3",
   "version": "3.10.9"
  }
 },
 "nbformat": 4,
 "nbformat_minor": 1
}
