{
  "cells": [
    {
      "cell_type": "markdown",
      "id": "88c2a5d3",
      "metadata": {
        "id": "88c2a5d3"
      },
      "source": [
        "# Uploading it to a Data Warehousing using a script\n",
        "\n",
        "**Data Dictionary**: Sheet 1 (Cleaned), Sheet 2 (Uncleaned)\n",
        " https://docs.google.com/spreadsheets/d/1IdQ7iA6eHaSGUW5JOBv3bBK6NkYCvbhffg5YaxwN5Bs/edit?usp=sharing"
      ]
    },
    {
      "cell_type": "markdown",
      "id": "64bdae7f",
      "metadata": {
        "id": "64bdae7f"
      },
      "source": [
        "# Grant Required Permissions to your Google Cloud Service Account to Create a BigQuery Data Set"
      ]
    },
    {
      "cell_type": "markdown",
      "id": "5d061580",
      "metadata": {
        "id": "5d061580"
      },
      "source": [
        "**1. Grant Permissions:**\n",
        "- Go to the Google Cloud Console.\n",
        "- Navigate to the IAM & Admin > IAM page.\n",
        "- Locate the user account associated with the credentials you are using.\n",
        "- Click \"ADD IAM CONDITION\"\n",
        "- Under the \"Role\" field, select the \"BigQuery Data Editor\"\n",
        "- Click \"SAVE\" to grant permissions.\n",
        "\n",
        "**Note: The BigQuery Data Editor role allows your service account access to edit all the contents of datasets. This step is important for loading your dataset from Google Cloud to the BigQuery Data Warehouse.**"
      ]
    },
    {
      "cell_type": "markdown",
      "id": "cb54749a",
      "metadata": {
        "id": "cb54749a"
      },
      "source": [
        "# Install the google-cloud-storage library"
      ]
    },
    {
      "cell_type": "code",
      "execution_count": 4,
      "id": "663df168",
      "metadata": {
        "id": "663df168"
      },
      "outputs": [],
      "source": [
        "%%capture\n",
        "pip install google-cloud-storage"
      ]
    },
    {
      "cell_type": "code",
      "source": [
        "from google.colab import drive\n",
        "\n",
        "# Mount Google Drive\n",
        "drive.mount('/content/drive')\n"
      ],
      "metadata": {
        "colab": {
          "base_uri": "https://localhost:8080/"
        },
        "id": "jqvvAXzkQu6d",
        "outputId": "fdfa936d-ee5c-4cb3-e145-43d38d8dfaf3"
      },
      "id": "jqvvAXzkQu6d",
      "execution_count": null,
      "outputs": [
        {
          "output_type": "stream",
          "name": "stdout",
          "text": [
            "Mounted at /content/drive\n"
          ]
        }
      ]
    },
    {
      "cell_type": "markdown",
      "id": "eb701df2",
      "metadata": {
        "id": "eb701df2"
      },
      "source": [
        "# Install the google-cloud-bigquery library"
      ]
    },
    {
      "cell_type": "code",
      "execution_count": 3,
      "id": "12118cff",
      "metadata": {
        "id": "12118cff"
      },
      "outputs": [],
      "source": [
        "%%capture\n",
        "pip install google-cloud-bigquery"
      ]
    },
    {
      "cell_type": "markdown",
      "id": "c86a5ae6",
      "metadata": {
        "id": "c86a5ae6"
      },
      "source": [
        "# Install upgraded bigquery library"
      ]
    },
    {
      "cell_type": "code",
      "execution_count": 2,
      "id": "aa861f70",
      "metadata": {
        "id": "aa861f70"
      },
      "outputs": [],
      "source": [
        "%%capture\n",
        "pip install --upgrade google-cloud-bigquery"
      ]
    },
    {
      "cell_type": "markdown",
      "id": "d426e43a",
      "metadata": {
        "id": "d426e43a"
      },
      "source": [
        "# Install pandas gcsfs"
      ]
    },
    {
      "cell_type": "code",
      "execution_count": 1,
      "id": "e51b76b4",
      "metadata": {
        "id": "e51b76b4"
      },
      "outputs": [],
      "source": [
        "%%capture\n",
        "pip install pandas gcsfs"
      ]
    },
    {
      "cell_type": "markdown",
      "id": "16deb34c",
      "metadata": {
        "id": "16deb34c"
      },
      "source": [
        "# Install pyarrow library\n",
        "\n",
        "**NOTE: Once pyarrow is installed, you should be able to use the load_table_from_dataframe function without encountering the ValueError from the \"Load Data into BigQuery Tables\" Cell.**\n",
        "\n",
        "**After installing pyarrow, you might need to restart your Python environment or Jupyter Notebook kernel before running the script again to ensure that the changes take effect.**"
      ]
    },
    {
      "cell_type": "code",
      "execution_count": null,
      "id": "972b7202",
      "metadata": {
        "id": "972b7202"
      },
      "outputs": [],
      "source": [
        "%%capture\n",
        "pip install pyarrow"
      ]
    },
    {
      "cell_type": "markdown",
      "id": "479a2e8f",
      "metadata": {
        "id": "479a2e8f"
      },
      "source": [
        "# Import the Python 'os' module"
      ]
    },
    {
      "cell_type": "code",
      "execution_count": null,
      "id": "10a62f7d",
      "metadata": {
        "id": "10a62f7d"
      },
      "outputs": [],
      "source": [
        "# CREATE A GOOGLE ACCESSKEY\n",
        "import os\n",
        "os.environ['GOOGLE_APPLICATION_CREDENTIALS'] = '/content/drive/MyDrive/Omakasi/GOOGLE_CLOUD_ACCESSKEY.json'"
      ]
    },
    {
      "cell_type": "markdown",
      "metadata": {
        "id": "X5nBO-xZRNE8"
      },
      "source": [
        "# Install pyarrow library\n",
        "\n",
        "**NOTE: Once pyarrow is installed, you should be able to use the load_table_from_dataframe function without encountering the ValueError from the \"Load Data into BigQuery Tables\" Cell.**\n",
        "\n",
        "**After installing pyarrow, you might need to restart your Python environment or Jupyter Notebook kernel before running the script again to ensure that the changes take effect.**"
      ],
      "id": "X5nBO-xZRNE8"
    },
    {
      "cell_type": "code",
      "execution_count": null,
      "metadata": {
        "id": "5sO7XkbmRNE-"
      },
      "outputs": [],
      "source": [
        "pip install pyarrow"
      ],
      "id": "5sO7XkbmRNE-"
    },
    {
      "cell_type": "markdown",
      "metadata": {
        "id": "gsVSIZT-RNE_"
      },
      "source": [
        "# Import the Python 'os' module"
      ],
      "id": "gsVSIZT-RNE_"
    },
    {
      "cell_type": "code",
      "execution_count": null,
      "id": "20f73254",
      "metadata": {
        "id": "20f73254"
      },
      "outputs": [],
      "source": [
        "from google.cloud import bigquery"
      ]
    },
    {
      "cell_type": "markdown",
      "id": "773fb2ce",
      "metadata": {
        "id": "773fb2ce"
      },
      "source": [
        "# Create BigQuery Dataset"
      ]
    },
    {
      "cell_type": "code",
      "execution_count": null,
      "id": "2d63eaaf",
      "metadata": {
        "id": "2d63eaaf",
        "colab": {
          "base_uri": "https://localhost:8080/"
        },
        "outputId": "90bd525b-db91-415d-be33-5ff1132ff71a"
      },
      "outputs": [
        {
          "output_type": "stream",
          "name": "stdout",
          "text": [
            "Dataset centering-seer-407304.2ndjsoncmepersonalproject created.\n"
          ]
        }
      ],
      "source": [
        "from google.cloud import bigquery\n",
        "\n",
        "# Creating a function for creating a BigQuery dataset with your file stored in your Google Cloud\n",
        "def create_bigquery_dataset(project_id, dataset_name):\n",
        "    bigquery_client = bigquery.Client(project=project_id)\n",
        "    dataset_id = f\"{project_id}.{dataset_name}\"\n",
        "    dataset = bigquery.Dataset(dataset_id)\n",
        "    dataset.location = \"US\"\n",
        "    bigquery_client.create_dataset(dataset)\n",
        "    print(f\"Dataset {dataset_id} created.\")\n",
        "\n",
        "\n",
        "project_id = 'centering-seer-407304'\n",
        "dataset_name = '2ndjsoncmepersonalproject'\n",
        "create_bigquery_dataset(project_id, dataset_name)"
      ]
    },
    {
      "cell_type": "markdown",
      "id": "794c0917",
      "metadata": {
        "id": "794c0917"
      },
      "source": [
        "# Create Tables in BigQuery"
      ]
    },
    {
      "cell_type": "code",
      "source": [
        "from google.cloud import bigquery\n",
        "from google.oauth2 import service_account\n",
        "import os\n",
        "\n",
        "# Getting the path to the service account key file from the environment variable\n",
        "service_account_path = os.environ.get('GOOGLE_APPLICATION_CREDENTIALS')\n",
        "\n",
        "# Setting your Google Cloud credentials using the environment variable\n",
        "credentials = service_account.Credentials.from_service_account_file(service_account_path)\n",
        "# Initializing a BigQuery client\n",
        "client = bigquery.Client(credentials=credentials, project=credentials.project_id)\n",
        "\n",
        "# Defining your dataset and table names\n",
        "dataset_name = '2ndjsoncmepersonalproject'\n",
        "fact_table_name = 'trade_fact'\n",
        "time_dim_table_name = 'time_dim'\n",
        "security_dim_table_name ='security_dim'\n",
        "\n",
        "# Creating the dataset\n",
        "dataset_ref = client.dataset(dataset_name)\n",
        "client.get_dataset(dataset_ref)\n",
        "\n",
        "# Defining the schema for the fact table\n",
        "fact_table_schema = [\n",
        "    bigquery.SchemaField('securityid', 'INTEGER', mode='REQUIRED'),\n",
        "    bigquery.SchemaField('transacttime', 'INTEGER'),\n",
        "    bigquery.SchemaField('instrumentsequencenumber', 'INTEGER'),\n",
        "    bigquery.SchemaField('recordtype', 'STRING'),\n",
        "    bigquery.SchemaField('marketsegmentid', 'INTEGER'),\n",
        "    bigquery.SchemaField('isuserdefinedinstrument', 'STRING')\n",
        "]\n",
        "\n",
        "# Defining the schema for the date dimension table\n",
        "time_dim_table_schema = [\n",
        "    bigquery.SchemaField('transacttime', 'INTEGER', mode='REQUIRED'),\n",
        "    bigquery.SchemaField('tradedate', 'DATE'),\n",
        "    bigquery.SchemaField('nanotime', 'INTEGER')\n",
        "]\n",
        "\n",
        "# Defining the schema for the security dimension table\n",
        "security_dim_table_schema = [\n",
        "    bigquery.SchemaField('securityid', 'INTEGER', mode='REQUIRED'),\n",
        "    bigquery.SchemaField('securitytype', 'STRING'),\n",
        "    bigquery.SchemaField('symbol', 'FLOAT'),\n",
        "    bigquery.SchemaField('securityexchange', 'STRING'),\n",
        "    bigquery.SchemaField('currencycode', 'STRING'),\n",
        "    bigquery.SchemaField('underlyingproduct', 'STRING'),\n",
        "    bigquery.SchemaField('asset', 'STRING'),\n",
        "]\n",
        "\n",
        "# Creating the FACT_TABLE:\n",
        "fact_table_ref = dataset_ref.table(fact_table_name)\n",
        "try:\n",
        "    client.get_table(fact_table_ref)\n",
        "    print(f\"Table {fact_table_name} already exists in the dataset {dataset_name}.\")\n",
        "except:\n",
        "    fact_table = bigquery.Table(fact_table_ref, schema=fact_table_schema)\n",
        "    client.create_table(fact_table)\n",
        "    print(f\"{fact_table_name} Created\")\n",
        "\n",
        "# Creating the DIM_TIME table:\n",
        "time_dim_table_ref = dataset_ref.table(time_dim_table_name)\n",
        "try:\n",
        "    client.get_table(time_dim_table_ref)\n",
        "    print(f\"Table {time_dim_table_name} already exists in the dataset {dataset_name}.\")\n",
        "except:\n",
        "    time_dim_table = bigquery.Table(time_dim_table_ref, schema=time_dim_table_schema)\n",
        "    client.create_table(time_dim_table)\n",
        "    print(f\"{time_dim_table_name} Created\")\n",
        "\n",
        "# Creating the DIM_Security table:\n",
        "security_dim_table_ref = dataset_ref.table(security_dim_table_name)\n",
        "try:\n",
        "    client.get_table(security_dim_table_ref)\n",
        "    print(f\"Table {security_dim_table_name} already exists in the dataset {dataset_name}.\")\n",
        "except:\n",
        "    security_dim_table = bigquery.Table(security_dim_table_ref, schema=security_dim_table_schema)\n",
        "    client.create_table(security_dim_table)\n",
        "    print(f\"{security_dim_table_name} Created\")\n"
      ],
      "metadata": {
        "colab": {
          "base_uri": "https://localhost:8080/"
        },
        "id": "eDQw87RMUByq",
        "outputId": "881c7b01-f79d-4aaf-bf72-5ab7b59ec1fe"
      },
      "id": "eDQw87RMUByq",
      "execution_count": null,
      "outputs": [
        {
          "output_type": "stream",
          "name": "stdout",
          "text": [
            "trade_fact Created\n",
            "time_dim Created\n",
            "security_dim Created\n"
          ]
        }
      ]
    },
    {
      "cell_type": "markdown",
      "id": "47e481a4",
      "metadata": {
        "id": "47e481a4"
      },
      "source": [
        "# Read a dataset from your Google Cloud Storage into a Pandas DataFrame"
      ]
    },
    {
      "cell_type": "code",
      "execution_count": null,
      "id": "f3c2a360",
      "metadata": {
        "id": "f3c2a360",
        "colab": {
          "base_uri": "https://localhost:8080/",
          "height": 360
        },
        "outputId": "4f111314-fe17-4e34-89c4-a2e71dd93568"
      },
      "outputs": [
        {
          "output_type": "execute_result",
          "data": {
            "text/plain": [
              "  securitytype             symbol securityexchange   nanotime  \\\n",
              "0          OPT  UD:WZ: 12 2877604             XCBT  196012091   \n",
              "1          OPT  UD:WZ: 12 2877604             XCBT  196012091   \n",
              "2          OPT  UD:WZ: 12 2877604             XCBT  196012091   \n",
              "3          FUT              SR3H7             XCME  354334027   \n",
              "4          FUT              SR3H7             XCME  356336945   \n",
              "\n",
              "              transacttime  securityid currencycode  hour  \\\n",
              "0  2023-07-24 02:02:32.196     2877604          USD     2   \n",
              "1  2023-07-24 02:02:32.196     2877604          USD     2   \n",
              "2  2023-07-24 02:02:32.196     2877604          USD     2   \n",
              "3  2023-07-24 02:03:39.354      254041          USD     2   \n",
              "4  2023-07-24 02:03:39.356      254041          USD     2   \n",
              "\n",
              "   instrumentsequencenumber recordtype  marketsegmentid    underlyingproduct  \\\n",
              "0                        67        MDV               60  %22NOT_AVAILABLE%22   \n",
              "1                        70       OPNS               60  %22NOT_AVAILABLE%22   \n",
              "2                        71       OPNS               60  %22NOT_AVAILABLE%22   \n",
              "3                     78968        MDV               82        Interest Rate   \n",
              "4                     78984        MDV               82        Interest Rate   \n",
              "\n",
              "    tradedate asset isuserdefinedinstrument  \n",
              "0  2023-07-24   OZW                       U  \n",
              "1  2023-07-24   OZW                       U  \n",
              "2  2023-07-24   OZW                       U  \n",
              "3  2023-07-24   SR3                       H  \n",
              "4  2023-07-24   SR3                       H  "
            ],
            "text/html": [
              "\n",
              "  <div id=\"df-6290de83-d407-41b1-a747-60807a88a140\" class=\"colab-df-container\">\n",
              "    <div>\n",
              "<style scoped>\n",
              "    .dataframe tbody tr th:only-of-type {\n",
              "        vertical-align: middle;\n",
              "    }\n",
              "\n",
              "    .dataframe tbody tr th {\n",
              "        vertical-align: top;\n",
              "    }\n",
              "\n",
              "    .dataframe thead th {\n",
              "        text-align: right;\n",
              "    }\n",
              "</style>\n",
              "<table border=\"1\" class=\"dataframe\">\n",
              "  <thead>\n",
              "    <tr style=\"text-align: right;\">\n",
              "      <th></th>\n",
              "      <th>securitytype</th>\n",
              "      <th>symbol</th>\n",
              "      <th>securityexchange</th>\n",
              "      <th>nanotime</th>\n",
              "      <th>transacttime</th>\n",
              "      <th>securityid</th>\n",
              "      <th>currencycode</th>\n",
              "      <th>hour</th>\n",
              "      <th>instrumentsequencenumber</th>\n",
              "      <th>recordtype</th>\n",
              "      <th>marketsegmentid</th>\n",
              "      <th>underlyingproduct</th>\n",
              "      <th>tradedate</th>\n",
              "      <th>asset</th>\n",
              "      <th>isuserdefinedinstrument</th>\n",
              "    </tr>\n",
              "  </thead>\n",
              "  <tbody>\n",
              "    <tr>\n",
              "      <th>0</th>\n",
              "      <td>OPT</td>\n",
              "      <td>UD:WZ: 12 2877604</td>\n",
              "      <td>XCBT</td>\n",
              "      <td>196012091</td>\n",
              "      <td>2023-07-24 02:02:32.196</td>\n",
              "      <td>2877604</td>\n",
              "      <td>USD</td>\n",
              "      <td>2</td>\n",
              "      <td>67</td>\n",
              "      <td>MDV</td>\n",
              "      <td>60</td>\n",
              "      <td>%22NOT_AVAILABLE%22</td>\n",
              "      <td>2023-07-24</td>\n",
              "      <td>OZW</td>\n",
              "      <td>U</td>\n",
              "    </tr>\n",
              "    <tr>\n",
              "      <th>1</th>\n",
              "      <td>OPT</td>\n",
              "      <td>UD:WZ: 12 2877604</td>\n",
              "      <td>XCBT</td>\n",
              "      <td>196012091</td>\n",
              "      <td>2023-07-24 02:02:32.196</td>\n",
              "      <td>2877604</td>\n",
              "      <td>USD</td>\n",
              "      <td>2</td>\n",
              "      <td>70</td>\n",
              "      <td>OPNS</td>\n",
              "      <td>60</td>\n",
              "      <td>%22NOT_AVAILABLE%22</td>\n",
              "      <td>2023-07-24</td>\n",
              "      <td>OZW</td>\n",
              "      <td>U</td>\n",
              "    </tr>\n",
              "    <tr>\n",
              "      <th>2</th>\n",
              "      <td>OPT</td>\n",
              "      <td>UD:WZ: 12 2877604</td>\n",
              "      <td>XCBT</td>\n",
              "      <td>196012091</td>\n",
              "      <td>2023-07-24 02:02:32.196</td>\n",
              "      <td>2877604</td>\n",
              "      <td>USD</td>\n",
              "      <td>2</td>\n",
              "      <td>71</td>\n",
              "      <td>OPNS</td>\n",
              "      <td>60</td>\n",
              "      <td>%22NOT_AVAILABLE%22</td>\n",
              "      <td>2023-07-24</td>\n",
              "      <td>OZW</td>\n",
              "      <td>U</td>\n",
              "    </tr>\n",
              "    <tr>\n",
              "      <th>3</th>\n",
              "      <td>FUT</td>\n",
              "      <td>SR3H7</td>\n",
              "      <td>XCME</td>\n",
              "      <td>354334027</td>\n",
              "      <td>2023-07-24 02:03:39.354</td>\n",
              "      <td>254041</td>\n",
              "      <td>USD</td>\n",
              "      <td>2</td>\n",
              "      <td>78968</td>\n",
              "      <td>MDV</td>\n",
              "      <td>82</td>\n",
              "      <td>Interest Rate</td>\n",
              "      <td>2023-07-24</td>\n",
              "      <td>SR3</td>\n",
              "      <td>H</td>\n",
              "    </tr>\n",
              "    <tr>\n",
              "      <th>4</th>\n",
              "      <td>FUT</td>\n",
              "      <td>SR3H7</td>\n",
              "      <td>XCME</td>\n",
              "      <td>356336945</td>\n",
              "      <td>2023-07-24 02:03:39.356</td>\n",
              "      <td>254041</td>\n",
              "      <td>USD</td>\n",
              "      <td>2</td>\n",
              "      <td>78984</td>\n",
              "      <td>MDV</td>\n",
              "      <td>82</td>\n",
              "      <td>Interest Rate</td>\n",
              "      <td>2023-07-24</td>\n",
              "      <td>SR3</td>\n",
              "      <td>H</td>\n",
              "    </tr>\n",
              "  </tbody>\n",
              "</table>\n",
              "</div>\n",
              "    <div class=\"colab-df-buttons\">\n",
              "\n",
              "  <div class=\"colab-df-container\">\n",
              "    <button class=\"colab-df-convert\" onclick=\"convertToInteractive('df-6290de83-d407-41b1-a747-60807a88a140')\"\n",
              "            title=\"Convert this dataframe to an interactive table.\"\n",
              "            style=\"display:none;\">\n",
              "\n",
              "  <svg xmlns=\"http://www.w3.org/2000/svg\" height=\"24px\" viewBox=\"0 -960 960 960\">\n",
              "    <path d=\"M120-120v-720h720v720H120Zm60-500h600v-160H180v160Zm220 220h160v-160H400v160Zm0 220h160v-160H400v160ZM180-400h160v-160H180v160Zm440 0h160v-160H620v160ZM180-180h160v-160H180v160Zm440 0h160v-160H620v160Z\"/>\n",
              "  </svg>\n",
              "    </button>\n",
              "\n",
              "  <style>\n",
              "    .colab-df-container {\n",
              "      display:flex;\n",
              "      gap: 12px;\n",
              "    }\n",
              "\n",
              "    .colab-df-convert {\n",
              "      background-color: #E8F0FE;\n",
              "      border: none;\n",
              "      border-radius: 50%;\n",
              "      cursor: pointer;\n",
              "      display: none;\n",
              "      fill: #1967D2;\n",
              "      height: 32px;\n",
              "      padding: 0 0 0 0;\n",
              "      width: 32px;\n",
              "    }\n",
              "\n",
              "    .colab-df-convert:hover {\n",
              "      background-color: #E2EBFA;\n",
              "      box-shadow: 0px 1px 2px rgba(60, 64, 67, 0.3), 0px 1px 3px 1px rgba(60, 64, 67, 0.15);\n",
              "      fill: #174EA6;\n",
              "    }\n",
              "\n",
              "    .colab-df-buttons div {\n",
              "      margin-bottom: 4px;\n",
              "    }\n",
              "\n",
              "    [theme=dark] .colab-df-convert {\n",
              "      background-color: #3B4455;\n",
              "      fill: #D2E3FC;\n",
              "    }\n",
              "\n",
              "    [theme=dark] .colab-df-convert:hover {\n",
              "      background-color: #434B5C;\n",
              "      box-shadow: 0px 1px 3px 1px rgba(0, 0, 0, 0.15);\n",
              "      filter: drop-shadow(0px 1px 2px rgba(0, 0, 0, 0.3));\n",
              "      fill: #FFFFFF;\n",
              "    }\n",
              "  </style>\n",
              "\n",
              "    <script>\n",
              "      const buttonEl =\n",
              "        document.querySelector('#df-6290de83-d407-41b1-a747-60807a88a140 button.colab-df-convert');\n",
              "      buttonEl.style.display =\n",
              "        google.colab.kernel.accessAllowed ? 'block' : 'none';\n",
              "\n",
              "      async function convertToInteractive(key) {\n",
              "        const element = document.querySelector('#df-6290de83-d407-41b1-a747-60807a88a140');\n",
              "        const dataTable =\n",
              "          await google.colab.kernel.invokeFunction('convertToInteractive',\n",
              "                                                    [key], {});\n",
              "        if (!dataTable) return;\n",
              "\n",
              "        const docLinkHtml = 'Like what you see? Visit the ' +\n",
              "          '<a target=\"_blank\" href=https://colab.research.google.com/notebooks/data_table.ipynb>data table notebook</a>'\n",
              "          + ' to learn more about interactive tables.';\n",
              "        element.innerHTML = '';\n",
              "        dataTable['output_type'] = 'display_data';\n",
              "        await google.colab.output.renderOutput(dataTable, element);\n",
              "        const docLink = document.createElement('div');\n",
              "        docLink.innerHTML = docLinkHtml;\n",
              "        element.appendChild(docLink);\n",
              "      }\n",
              "    </script>\n",
              "  </div>\n",
              "\n",
              "\n",
              "<div id=\"df-e32613a6-7b2a-4422-b866-1a9a03d995b9\">\n",
              "  <button class=\"colab-df-quickchart\" onclick=\"quickchart('df-e32613a6-7b2a-4422-b866-1a9a03d995b9')\"\n",
              "            title=\"Suggest charts\"\n",
              "            style=\"display:none;\">\n",
              "\n",
              "<svg xmlns=\"http://www.w3.org/2000/svg\" height=\"24px\"viewBox=\"0 0 24 24\"\n",
              "     width=\"24px\">\n",
              "    <g>\n",
              "        <path d=\"M19 3H5c-1.1 0-2 .9-2 2v14c0 1.1.9 2 2 2h14c1.1 0 2-.9 2-2V5c0-1.1-.9-2-2-2zM9 17H7v-7h2v7zm4 0h-2V7h2v10zm4 0h-2v-4h2v4z\"/>\n",
              "    </g>\n",
              "</svg>\n",
              "  </button>\n",
              "\n",
              "<style>\n",
              "  .colab-df-quickchart {\n",
              "      --bg-color: #E8F0FE;\n",
              "      --fill-color: #1967D2;\n",
              "      --hover-bg-color: #E2EBFA;\n",
              "      --hover-fill-color: #174EA6;\n",
              "      --disabled-fill-color: #AAA;\n",
              "      --disabled-bg-color: #DDD;\n",
              "  }\n",
              "\n",
              "  [theme=dark] .colab-df-quickchart {\n",
              "      --bg-color: #3B4455;\n",
              "      --fill-color: #D2E3FC;\n",
              "      --hover-bg-color: #434B5C;\n",
              "      --hover-fill-color: #FFFFFF;\n",
              "      --disabled-bg-color: #3B4455;\n",
              "      --disabled-fill-color: #666;\n",
              "  }\n",
              "\n",
              "  .colab-df-quickchart {\n",
              "    background-color: var(--bg-color);\n",
              "    border: none;\n",
              "    border-radius: 50%;\n",
              "    cursor: pointer;\n",
              "    display: none;\n",
              "    fill: var(--fill-color);\n",
              "    height: 32px;\n",
              "    padding: 0;\n",
              "    width: 32px;\n",
              "  }\n",
              "\n",
              "  .colab-df-quickchart:hover {\n",
              "    background-color: var(--hover-bg-color);\n",
              "    box-shadow: 0 1px 2px rgba(60, 64, 67, 0.3), 0 1px 3px 1px rgba(60, 64, 67, 0.15);\n",
              "    fill: var(--button-hover-fill-color);\n",
              "  }\n",
              "\n",
              "  .colab-df-quickchart-complete:disabled,\n",
              "  .colab-df-quickchart-complete:disabled:hover {\n",
              "    background-color: var(--disabled-bg-color);\n",
              "    fill: var(--disabled-fill-color);\n",
              "    box-shadow: none;\n",
              "  }\n",
              "\n",
              "  .colab-df-spinner {\n",
              "    border: 2px solid var(--fill-color);\n",
              "    border-color: transparent;\n",
              "    border-bottom-color: var(--fill-color);\n",
              "    animation:\n",
              "      spin 1s steps(1) infinite;\n",
              "  }\n",
              "\n",
              "  @keyframes spin {\n",
              "    0% {\n",
              "      border-color: transparent;\n",
              "      border-bottom-color: var(--fill-color);\n",
              "      border-left-color: var(--fill-color);\n",
              "    }\n",
              "    20% {\n",
              "      border-color: transparent;\n",
              "      border-left-color: var(--fill-color);\n",
              "      border-top-color: var(--fill-color);\n",
              "    }\n",
              "    30% {\n",
              "      border-color: transparent;\n",
              "      border-left-color: var(--fill-color);\n",
              "      border-top-color: var(--fill-color);\n",
              "      border-right-color: var(--fill-color);\n",
              "    }\n",
              "    40% {\n",
              "      border-color: transparent;\n",
              "      border-right-color: var(--fill-color);\n",
              "      border-top-color: var(--fill-color);\n",
              "    }\n",
              "    60% {\n",
              "      border-color: transparent;\n",
              "      border-right-color: var(--fill-color);\n",
              "    }\n",
              "    80% {\n",
              "      border-color: transparent;\n",
              "      border-right-color: var(--fill-color);\n",
              "      border-bottom-color: var(--fill-color);\n",
              "    }\n",
              "    90% {\n",
              "      border-color: transparent;\n",
              "      border-bottom-color: var(--fill-color);\n",
              "    }\n",
              "  }\n",
              "</style>\n",
              "\n",
              "  <script>\n",
              "    async function quickchart(key) {\n",
              "      const quickchartButtonEl =\n",
              "        document.querySelector('#' + key + ' button');\n",
              "      quickchartButtonEl.disabled = true;  // To prevent multiple clicks.\n",
              "      quickchartButtonEl.classList.add('colab-df-spinner');\n",
              "      try {\n",
              "        const charts = await google.colab.kernel.invokeFunction(\n",
              "            'suggestCharts', [key], {});\n",
              "      } catch (error) {\n",
              "        console.error('Error during call to suggestCharts:', error);\n",
              "      }\n",
              "      quickchartButtonEl.classList.remove('colab-df-spinner');\n",
              "      quickchartButtonEl.classList.add('colab-df-quickchart-complete');\n",
              "    }\n",
              "    (() => {\n",
              "      let quickchartButtonEl =\n",
              "        document.querySelector('#df-e32613a6-7b2a-4422-b866-1a9a03d995b9 button');\n",
              "      quickchartButtonEl.style.display =\n",
              "        google.colab.kernel.accessAllowed ? 'block' : 'none';\n",
              "    })();\n",
              "  </script>\n",
              "</div>\n",
              "    </div>\n",
              "  </div>\n"
            ]
          },
          "metadata": {},
          "execution_count": 15
        }
      ],
      "source": [
        "import pandas as pd\n",
        "from gcsfs import GCSFileSystem\n",
        "\n",
        "# Replace with you actual bucket and file path\n",
        "gcs_bucket = 'jsoncme'\n",
        "gcs_file_path = 'Cleaned_CME_Data.csv'\n",
        "\n",
        "# Using Pandas to read the dataset from GCS into a DataFrame\n",
        "df = pd.read_csv(f'gcs://{gcs_bucket}/{gcs_file_path}')\n",
        "\n",
        "# Displaying the first few rows of the DataFrame\n",
        "df.head()\n"
      ]
    },
    {
      "cell_type": "markdown",
      "id": "aab34628",
      "metadata": {
        "id": "aab34628"
      },
      "source": [
        "# Load Data into BigQuery Tables"
      ]
    },
    {
      "cell_type": "code",
      "execution_count": null,
      "id": "4546ebfe",
      "metadata": {
        "id": "4546ebfe"
      },
      "outputs": [],
      "source": [
        "# Creating a function that uploads your data to BigQuery from a DataFrame\n",
        "def upload_data_from_dataframe(df, table_ref):\n",
        "    job_config = bigquery.LoadJobConfig()\n",
        "    job_config.write_disposition = bigquery.WriteDisposition.WRITE_TRUNCATE\n",
        "    job_config.autodetect = True\n",
        "    job = client.load_table_from_dataframe(df, table_ref, job_config=job_config)\n",
        "    job.result()\n",
        "\n",
        "# Splitting your DataFrame into the respective dimension and fact DataFrames\n",
        "# fact_df, date_dim_df, airport_dim_df, weather_dim_df = split_your_dataframe(df_transformed)\n",
        "def split_df(df):\n",
        "    fact_cols = [\n",
        "    \"securityid\", \"transacttime\", \"instrumentsequencenumber\",\n",
        "    \"recordtype\", \"marketsegmentid\",\n",
        "    \"isuserdefinedinstrument\"]\n",
        "\n",
        "    time_cols = [\n",
        "    \"transacttime\", \"tradedate\", \"nanotime\"]\n",
        "\n",
        "\n",
        "    security_cols = [\n",
        "    \"securityid\", \"securitytype\", \"symbol\", \"securityexchange\", \"currencycode\", \"underlyingproduct\",\n",
        "    \"asset\"]\n",
        "\n",
        "\n",
        "    fact_df = df[fact_cols]\n",
        "    time_dim_df = df[time_cols]\n",
        "    security_dim_df = df[security_cols]\n",
        "\n",
        "    # Returning the split DataFrames\n",
        "    return fact_df, time_dim_df, security_dim_df\n",
        "\n",
        "fact_df, time_dim_df, security_dim_df= split_df(df)\n",
        "\n",
        "# Uploading the data to BigQuery\n",
        "upload_data_from_dataframe(fact_df, fact_table_ref)\n",
        "upload_data_from_dataframe(time_dim_df, time_dim_table_ref)\n",
        "upload_data_from_dataframe(security_dim_df, security_dim_table_ref)"
      ]
    }
  ],
  "metadata": {
    "kernelspec": {
      "display_name": "Python 3 (ipykernel)",
      "language": "python",
      "name": "python3"
    },
    "language_info": {
      "codemirror_mode": {
        "name": "ipython",
        "version": 3
      },
      "file_extension": ".py",
      "mimetype": "text/x-python",
      "name": "python",
      "nbconvert_exporter": "python",
      "pygments_lexer": "ipython3",
      "version": "3.10.9"
    },
    "colab": {
      "provenance": []
    }
  },
  "nbformat": 4,
  "nbformat_minor": 5
}